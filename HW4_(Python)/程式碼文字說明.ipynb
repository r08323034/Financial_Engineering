{
 "cells": [
  {
   "cell_type": "markdown",
   "metadata": {},
   "source": [
    "後面需要算常態分配的cdf，匯入scipy.stats的模組"
   ]
  },
  {
   "cell_type": "code",
   "execution_count": 1,
   "metadata": {},
   "outputs": [],
   "source": [
    "import math\n",
    "from scipy.stats import norm"
   ]
  },
  {
   "cell_type": "markdown",
   "metadata": {},
   "source": [
    "使用者輸入變數，股利需要輸入次數以及各別月份"
   ]
  },
  {
   "cell_type": "code",
   "execution_count": 2,
   "metadata": {},
   "outputs": [
    {
     "name": "stdout",
     "output_type": "stream",
     "text": [
      "Current price of stock: 75\n",
      "Volatility: 0.35\n",
      "Dividend paying times: 2\n",
      "month: 1\n",
      "month: 4\n",
      "Dividends: 1\n",
      "Return of stock(%): 6\n",
      "Exercise price of stock: 65\n",
      "Months to Maturity: 6\n"
     ]
    }
   ],
   "source": [
    "S = int(input('Current price of stock: '))\n",
    "v = float(input('Volatility: '))\n",
    "d = int(input('Dividend paying times: '))\n",
    "mon_lst = []\n",
    "for i in range(d):\n",
    "    mon_lst.append(int(input('month: ')))\n",
    "m = float(input('Dividends: '))\n",
    "r = 0.01 * float(input('Return of stock(%): '))\n",
    "K = int(input('Exercise price of stock: '))\n",
    "months = int(input('Months to Maturity: '))"
   ]
  },
  {
   "cell_type": "markdown",
   "metadata": {},
   "source": [
    "先將到期日前發放股利的所有月份轉換成距離起始日的月數，並存入dm_lst  \n",
    "由dm_lst算出所有的股利折現D    \n",
    "S_hat = S - D  \n",
    "接著透過 Black-Scholes Formula算出d1、d2  \n",
    "利用scipy.stats套件算出cdf:N(-d1)、N(-d2)  \n",
    "接著算出put value，利用Put-Call Parity，得call value  "
   ]
  },
  {
   "cell_type": "code",
   "execution_count": 3,
   "metadata": {},
   "outputs": [
    {
     "name": "stdout",
     "output_type": "stream",
     "text": [
      "The value of a European put = 2.86\n",
      "The value of a European call = 12.81\n"
     ]
    }
   ],
   "source": [
    "# D\n",
    "dm_lst = []\n",
    "a = months // 12\n",
    "b = months % 12\n",
    "count = 0\n",
    "for i in mon_lst:\n",
    "    if i <= b:\n",
    "        count += 1\n",
    "count = a*len(mon_lst) + count\n",
    "\n",
    "for j in range(count):\n",
    "    dm_lst.append(mon_lst[j%d] + (j//d) * 12)  # 每次收利息的距今累積月數\n",
    "\n",
    "D = 0\n",
    "for i in range(len(dm_lst)):\n",
    "    D += m * math.exp(-r * (dm_lst[i]/12))\n",
    "\n",
    "S_hat = S - D\n",
    "d1 = (math.log(S_hat/K) + (r + (1/2) * (v**2)) * (months/12)) / (v*((months/12)**(1/2)))\n",
    "d2 = d1 - v * ((months/12)**(1/2))\n",
    "\n",
    "p = K * math.exp(-r * (months / 12)) * (norm.cdf(-d2)) - S_hat * (norm.cdf(-d1))\n",
    "c = p + S_hat - K * math.exp(-r * (months / 12))\n",
    "\n",
    "print('The value of a European put = %3.2f' % p)\n",
    "print('The value of a European call = %3.2f' % c)"
   ]
  }
 ],
 "metadata": {
  "kernelspec": {
   "display_name": "Python 3",
   "language": "python",
   "name": "python3"
  },
  "language_info": {
   "codemirror_mode": {
    "name": "ipython",
    "version": 3
   },
   "file_extension": ".py",
   "mimetype": "text/x-python",
   "name": "python",
   "nbconvert_exporter": "python",
   "pygments_lexer": "ipython3",
   "version": "3.7.4"
  }
 },
 "nbformat": 4,
 "nbformat_minor": 2
}
