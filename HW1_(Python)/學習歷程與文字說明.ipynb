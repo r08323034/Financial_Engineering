{
 "cells": [
  {
   "cell_type": "markdown",
   "metadata": {},
   "source": [
    "導入所需套件，其中Decimal用於解決精確的四捨五入問題"
   ]
  },
  {
   "cell_type": "code",
   "execution_count": null,
   "metadata": {},
   "outputs": [],
   "source": [
    "import pandas as pd\n",
    "import numpy as np\n",
    "import math \n",
    "import decimal\n",
    "from decimal import Decimal\n",
    "decimal.getcontext().rounding = \"ROUND_HALF_UP\""
   ]
  },
  {
   "cell_type": "markdown",
   "metadata": {},
   "source": [
    "設置好本段code用到decimal套件的運算模式。  \n",
    "建立input與輸入提示。"
   ]
  },
  {
   "cell_type": "code",
   "execution_count": null,
   "metadata": {},
   "outputs": [],
   "source": [
    "decimal.getcontext().rounding = \"ROUND_HALF_UP\"\n",
    "\n",
    "num1 = 10000*int(input('本金(萬元)'))\n",
    "num2 = int(input('期數(年)'))\n",
    "num3 = 0.01*int(input('年利率(%)'))"
   ]
  },
  {
   "cell_type": "markdown",
   "metadata": {},
   "source": [
    "創建三個空的column list 以及一個index list(需給定個數為num2 * 12)"
   ]
  },
  {
   "cell_type": "code",
   "execution_count": null,
   "metadata": {},
   "outputs": [],
   "source": [
    "column_1 = []\n",
    "column_2 = []\n",
    "column_3 = []\n",
    "index_ = ['0'] * num2 * "
   ]
  },
  {
   "cell_type": "markdown",
   "metadata": {},
   "source": [
    "用迴圈算出每期本金、期數、年利率資料並記錄到上一步驟所建立的三個column list。"
   ]
  },
  {
   "cell_type": "code",
   "execution_count": null,
   "metadata": {},
   "outputs": [],
   "source": [
    "for i in range(1,num2*12+1):\n",
    "    index_[i-1] = str('第' + str(i) + '期')\n",
    "    if i < num2*12:\n",
    "        a = math.ceil(num1 / (num2*12))\n",
    "        b = (num1 - (math.ceil(num1 / (num2*12))) * (i-1)) * (num3/12)\n",
    "        b = int(Decimal(str(b)).quantize(Decimal('0')))\n",
    "        c = a+b \n",
    "    else:\n",
    "        a = num1 - (math.ceil(num1 / (num2*12))) * (num2*12 - 1)\n",
    "        b = (num1-(math.ceil(num1 / (num2*12))) * (i - 1))*(num3 / 12)\n",
    "        b = int(Decimal(str(b)).quantize(Decimal('0')))\n",
    "        c = a+b\n",
    "        \n",
    "    column_1.append(a)\n",
    "    column_2.append(b)\n",
    "    column_3.append(c)"
   ]
  },
  {
   "cell_type": "markdown",
   "metadata": {},
   "source": [
    "利用pandas套件將資料轉為dataframe並合併，輸出結果。"
   ]
  },
  {
   "cell_type": "code",
   "execution_count": null,
   "metadata": {},
   "outputs": [],
   "source": [
    "df1 = pd.DataFrame(column_1, columns=['本金(元)'], index=index_)\n",
    "df2 = pd.DataFrame(column_2, columns=['利息(元)'], index=index_)\n",
    "df3 = (pd.DataFrame(column_3, columns=['本金利息累積(元)'], index=index_)).cumsum()\n",
    "df = pd.concat([df1, df2, df3], axis=1)\n",
    "\n",
    "print(df)\n"
   ]
  }
 ],
 "metadata": {
  "kernelspec": {
   "display_name": "Python 3",
   "language": "python",
   "name": "python3"
  },
  "language_info": {
   "codemirror_mode": {
    "name": "ipython",
    "version": 3
   },
   "file_extension": ".py",
   "mimetype": "text/x-python",
   "name": "python",
   "nbconvert_exporter": "python",
   "pygments_lexer": "ipython3",
   "version": "3.7.4"
  }
 },
 "nbformat": 4,
 "nbformat_minor": 2
}
